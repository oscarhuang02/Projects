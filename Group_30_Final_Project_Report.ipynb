{
 "cells": [
  {
   "cell_type": "markdown",
   "metadata": {},
   "source": [
    "# Unplugged: Predicting the projections of global greenhouse gas emissions from asset-level electricity generation \n",
    "\n",
    "#### Group 30 - DS3000 Final Project\n",
    "#### Heidi Eren, Emma Assiradoo, Tzu-En Huang, Ryan Chan \n",
    "#### Source: [Climate TRACE](https://climatetrace.org/explore)"
   ]
  },
  {
   "cell_type": "markdown",
   "metadata": {},
   "source": [
    "## Executive Summary"
   ]
  },
  {
   "cell_type": "markdown",
   "metadata": {},
   "source": [
    "The UN states that 35% of total emissions are a result of the energy supply sector, a category that includes electricity as its main component [3]. The energy sector is the largest contributor to total greenhouse gas emissions, yet power is rarely mentioned as the root of the climate change issue. We are all cognizant of global warming, yet unknowing of contributors ranging from manufacturing to agriculture to forestry and land use. In fact, a national study stated that 63% of Americans did not understand why global warming was happening, with many of them having gaps and misconceptions about the topic [1]. There is a need to not only be able to raise awareness of the impacts that climate change can have on the future, but to also highlight and predict the effects of commonly overlooked contributors. By looking at various factors such as the country, asset type, and emission capacity, we wanted to determine whether these factors can accurately predict emissions quantity from electricity generation, or if a large factor of randomness accounts for it. Thus, we trained a model to predict the carbon dioxide emissions quantity on the asset-level, and determined whether these factors are significant with a feature importance plot. Through the model, we also determined which assets are projected to produce the highest greenhouse gas emissions from electricity generation, potentially causing the most damage to our environment."
   ]
  },
  {
   "cell_type": "markdown",
   "metadata": {},
   "source": [
    "## Introduction"
   ]
  },
  {
   "cell_type": "markdown",
   "metadata": {},
   "source": [
    "### Defining the problem"
   ]
  },
  {
   "cell_type": "markdown",
   "metadata": {},
   "source": [
    "The problem we are trying to solve isn’t just climate change, but to increase the awareness of sectors that are the main contributors to greenhouse gas (GHG) emissions. About ⅔ of carbon emissions can be attributed to the burning of fossil fuels in order to generate electricity and other sources of power (2). In the long run, the consequences resulting from the high carbon footprint will redefine the environment we live in, as it would lead to a reduction in freshwater availability, increase water stress, and contribute to heavy precipitation (4). However, these important facts are often overlooked on social media or in our education system, causing people to simply believe that “plastic waste” is the only factor in climate change. "
   ]
  },
  {
   "cell_type": "markdown",
   "metadata": {},
   "source": [
    "### Motivation for the topic"
   ]
  },
  {
   "cell_type": "markdown",
   "metadata": {},
   "source": [
    "We chose this topic out of an effort to learn more about the roots of climate change, and be able to use predictive modeling to gauge the severity and urgency of the issue at hand. We want to create something that is relevant and applicable where we can spread awareness of the increase in greenhouse gas (GHG) emissions. Although it may not be obvious to an individual, climate change “is seen throughout every aspect of the world we live in” (5) from natural disasters to impacts on human health and infrastructure. "
   ]
  },
  {
   "cell_type": "markdown",
   "metadata": {},
   "source": [
    "### Goals & Objectives"
   ]
  },
  {
   "cell_type": "markdown",
   "metadata": {},
   "source": [
    "There is a general lack of understanding as to the driving forces behind climate change. Our goal is to hone in on the power sector, determining the impact the factors above have on the larger issue at hand. Through the creation of predictive models and data visualizations, we want to be able to increase the digestibility of this information to the general public, showing historical patterns and using those to help predict future outcomes. Our model will enable us to account for r squared, giving us the ability to determine whether randomness or defined factors have more of an impact on carbon emissions. From there we will work to see if, given an asset, we can predict emission amounts with significant accuracy."
   ]
  },
  {
   "cell_type": "code",
   "execution_count": 1,
   "metadata": {},
   "outputs": [],
   "source": [
    "import numpy as np\n",
    "import pandas as pd\n",
    "import matplotlib.pyplot as plt\n",
    "import scipy as sp\n",
    "import seaborn as sns\n",
    "\n",
    "from sklearn.preprocessing import StandardScaler, OneHotEncoder\n",
    "from sklearn.model_selection import train_test_split, GridSearchCV\n",
    "from sklearn.svm import SVC\n",
    "from sklearn.model_selection import ShuffleSplit\n",
    "import warnings\n",
    "from sklearn.metrics import accuracy_score, precision_score, recall_score, f1_score\n",
    "from sklearn.compose import ColumnTransformer\n",
    "from sklearn.ensemble import RandomForestRegressor\n",
    "from sklearn.tree import DecisionTreeRegressor\n",
    "from sklearn.svm import SVR\n",
    "from sklearn.metrics import mean_squared_error"
   ]
  },
  {
   "cell_type": "code",
   "execution_count": 2,
   "metadata": {},
   "outputs": [],
   "source": [
    "import matplotlib as mpl\n",
    "mpl.rcParams.update(mpl.rcParamsDefault)"
   ]
  },
  {
   "cell_type": "markdown",
   "metadata": {},
   "source": [
    "## Methodology"
   ]
  },
  {
   "cell_type": "markdown",
   "metadata": {},
   "source": [
    "We will be evaluating data from Climate Trace’s [“Power”](https://climatetrace.org/downloads) data. Within the ‘Power’ folder, there are subfiles that contain electricity generation emissions based on asset and country. We will be analyzing ‘asset_electricity-generation_emissions.csv’ to narrow down our focus to the annual electricity generation emissions of asset-level sectors across nations. It contains the total generation of global fossil fuel (and operational) plants for each asset, which was defined at the level of individual power plants. We selected the global emissions at the asset-level because we wanted to observe and explore what specific power plants are contributing the most to global carbon emissions and how we can leverage this insight to make meaningful predictions and raise concerns toward these sectors."
   ]
  },
  {
   "cell_type": "markdown",
   "metadata": {},
   "source": [
    "### Data acquisition"
   ]
  },
  {
   "cell_type": "markdown",
   "metadata": {},
   "source": [
    "Our dataset contains 8.8k asset-level electricity carbon emissions across the globe (The size of this dataset is 20 columns x 8821 rows). The columns include the original inventory sector, start and end times, gas type, emission factors, capacity/capacity units, activity/activity units, asset name, asset type, and coordinates. Climate TRACE utilizes AI and machine learning to analyze 300+ satellites and 11k sensors data to calculate greenhouse gas emissions from electricity generation."
   ]
  },
  {
   "cell_type": "code",
   "execution_count": 3,
   "metadata": {},
   "outputs": [
    {
     "data": {
      "text/html": [
       "<div>\n",
       "<style scoped>\n",
       "    .dataframe tbody tr th:only-of-type {\n",
       "        vertical-align: middle;\n",
       "    }\n",
       "\n",
       "    .dataframe tbody tr th {\n",
       "        vertical-align: top;\n",
       "    }\n",
       "\n",
       "    .dataframe thead th {\n",
       "        text-align: right;\n",
       "    }\n",
       "</style>\n",
       "<table border=\"1\" class=\"dataframe\">\n",
       "  <thead>\n",
       "    <tr style=\"text-align: right;\">\n",
       "      <th></th>\n",
       "      <th>asset_id</th>\n",
       "      <th>iso3_country</th>\n",
       "      <th>original_inventory_sector</th>\n",
       "      <th>start_time</th>\n",
       "      <th>end_time</th>\n",
       "      <th>temporal_granularity</th>\n",
       "      <th>gas</th>\n",
       "      <th>emissions_quantity</th>\n",
       "      <th>emissions_factor</th>\n",
       "      <th>emissions_factor_units</th>\n",
       "      <th>capacity</th>\n",
       "      <th>capacity_units</th>\n",
       "      <th>capacity_factor</th>\n",
       "      <th>activity</th>\n",
       "      <th>activity_units</th>\n",
       "      <th>created_date</th>\n",
       "      <th>modified_date</th>\n",
       "      <th>asset_name</th>\n",
       "      <th>asset_type</th>\n",
       "      <th>st_astext</th>\n",
       "    </tr>\n",
       "  </thead>\n",
       "  <tbody>\n",
       "    <tr>\n",
       "      <th>0</th>\n",
       "      <td>1670320</td>\n",
       "      <td>USA</td>\n",
       "      <td>electricity-generation</td>\n",
       "      <td>2020-01-01 00:00:00</td>\n",
       "      <td>2020-12-31 00:00:00</td>\n",
       "      <td>annual</td>\n",
       "      <td>co2</td>\n",
       "      <td>6853000.0</td>\n",
       "      <td>0.934</td>\n",
       "      <td>tonnes_gas_per_MWh</td>\n",
       "      <td>1717</td>\n",
       "      <td>PP_max_capacity(MW)</td>\n",
       "      <td>0.487</td>\n",
       "      <td>7339000</td>\n",
       "      <td>generation_MWh</td>\n",
       "      <td>2022-09-01 16:53:38.166045</td>\n",
       "      <td>NaN</td>\n",
       "      <td>Mill Creek (KY)</td>\n",
       "      <td>coal</td>\n",
       "      <td>POINT(-85.9103 38.0525)</td>\n",
       "    </tr>\n",
       "    <tr>\n",
       "      <th>1</th>\n",
       "      <td>1670320</td>\n",
       "      <td>USA</td>\n",
       "      <td>electricity-generation</td>\n",
       "      <td>2020-01-01 00:00:00</td>\n",
       "      <td>2020-12-31 00:00:00</td>\n",
       "      <td>annual</td>\n",
       "      <td>ch4</td>\n",
       "      <td>NaN</td>\n",
       "      <td>NaN</td>\n",
       "      <td>tonnes_gas_per_MWh</td>\n",
       "      <td>1717</td>\n",
       "      <td>PP_max_capacity(MW)</td>\n",
       "      <td>0.487</td>\n",
       "      <td>7339000</td>\n",
       "      <td>generation_MWh</td>\n",
       "      <td>2022-09-01 16:53:38.166045</td>\n",
       "      <td>NaN</td>\n",
       "      <td>Mill Creek (KY)</td>\n",
       "      <td>coal</td>\n",
       "      <td>POINT(-85.9103 38.0525)</td>\n",
       "    </tr>\n",
       "    <tr>\n",
       "      <th>2</th>\n",
       "      <td>1670320</td>\n",
       "      <td>USA</td>\n",
       "      <td>electricity-generation</td>\n",
       "      <td>2020-01-01 00:00:00</td>\n",
       "      <td>2020-12-31 00:00:00</td>\n",
       "      <td>annual</td>\n",
       "      <td>n2o</td>\n",
       "      <td>NaN</td>\n",
       "      <td>NaN</td>\n",
       "      <td>tonnes_gas_per_MWh</td>\n",
       "      <td>1717</td>\n",
       "      <td>PP_max_capacity(MW)</td>\n",
       "      <td>0.487</td>\n",
       "      <td>7339000</td>\n",
       "      <td>generation_MWh</td>\n",
       "      <td>2022-09-01 16:53:38.166045</td>\n",
       "      <td>NaN</td>\n",
       "      <td>Mill Creek (KY)</td>\n",
       "      <td>coal</td>\n",
       "      <td>POINT(-85.9103 38.0525)</td>\n",
       "    </tr>\n",
       "    <tr>\n",
       "      <th>3</th>\n",
       "      <td>1670320</td>\n",
       "      <td>USA</td>\n",
       "      <td>electricity-generation</td>\n",
       "      <td>2020-01-01 00:00:00</td>\n",
       "      <td>2020-12-31 00:00:00</td>\n",
       "      <td>annual</td>\n",
       "      <td>co2e_100yr</td>\n",
       "      <td>6853000.0</td>\n",
       "      <td>NaN</td>\n",
       "      <td>tonnes_gas_per_MWh</td>\n",
       "      <td>1717</td>\n",
       "      <td>PP_max_capacity(MW)</td>\n",
       "      <td>0.487</td>\n",
       "      <td>7339000</td>\n",
       "      <td>generation_MWh</td>\n",
       "      <td>2022-09-01 16:53:38.166045</td>\n",
       "      <td>NaN</td>\n",
       "      <td>Mill Creek (KY)</td>\n",
       "      <td>coal</td>\n",
       "      <td>POINT(-85.9103 38.0525)</td>\n",
       "    </tr>\n",
       "    <tr>\n",
       "      <th>4</th>\n",
       "      <td>1670320</td>\n",
       "      <td>USA</td>\n",
       "      <td>electricity-generation</td>\n",
       "      <td>2021-01-01 00:00:00</td>\n",
       "      <td>2021-12-31 00:00:00</td>\n",
       "      <td>annual</td>\n",
       "      <td>ch4</td>\n",
       "      <td>NaN</td>\n",
       "      <td>NaN</td>\n",
       "      <td>tonnes_gas_per_MWh</td>\n",
       "      <td>1717</td>\n",
       "      <td>PP_max_capacity(MW)</td>\n",
       "      <td>0.541</td>\n",
       "      <td>8133000</td>\n",
       "      <td>generation_MWh</td>\n",
       "      <td>2022-09-01 16:53:38.166045</td>\n",
       "      <td>NaN</td>\n",
       "      <td>Mill Creek (KY)</td>\n",
       "      <td>coal</td>\n",
       "      <td>POINT(-85.9103 38.0525)</td>\n",
       "    </tr>\n",
       "  </tbody>\n",
       "</table>\n",
       "</div>"
      ],
      "text/plain": [
       "   asset_id iso3_country original_inventory_sector           start_time  \\\n",
       "0   1670320          USA    electricity-generation  2020-01-01 00:00:00   \n",
       "1   1670320          USA    electricity-generation  2020-01-01 00:00:00   \n",
       "2   1670320          USA    electricity-generation  2020-01-01 00:00:00   \n",
       "3   1670320          USA    electricity-generation  2020-01-01 00:00:00   \n",
       "4   1670320          USA    electricity-generation  2021-01-01 00:00:00   \n",
       "\n",
       "              end_time temporal_granularity         gas  emissions_quantity  \\\n",
       "0  2020-12-31 00:00:00               annual         co2           6853000.0   \n",
       "1  2020-12-31 00:00:00               annual         ch4                 NaN   \n",
       "2  2020-12-31 00:00:00               annual         n2o                 NaN   \n",
       "3  2020-12-31 00:00:00               annual  co2e_100yr           6853000.0   \n",
       "4  2021-12-31 00:00:00               annual         ch4                 NaN   \n",
       "\n",
       "   emissions_factor emissions_factor_units  capacity       capacity_units  \\\n",
       "0             0.934     tonnes_gas_per_MWh      1717  PP_max_capacity(MW)   \n",
       "1               NaN     tonnes_gas_per_MWh      1717  PP_max_capacity(MW)   \n",
       "2               NaN     tonnes_gas_per_MWh      1717  PP_max_capacity(MW)   \n",
       "3               NaN     tonnes_gas_per_MWh      1717  PP_max_capacity(MW)   \n",
       "4               NaN     tonnes_gas_per_MWh      1717  PP_max_capacity(MW)   \n",
       "\n",
       "   capacity_factor  activity  activity_units                created_date  \\\n",
       "0            0.487   7339000  generation_MWh  2022-09-01 16:53:38.166045   \n",
       "1            0.487   7339000  generation_MWh  2022-09-01 16:53:38.166045   \n",
       "2            0.487   7339000  generation_MWh  2022-09-01 16:53:38.166045   \n",
       "3            0.487   7339000  generation_MWh  2022-09-01 16:53:38.166045   \n",
       "4            0.541   8133000  generation_MWh  2022-09-01 16:53:38.166045   \n",
       "\n",
       "  modified_date       asset_name asset_type                st_astext  \n",
       "0           NaN  Mill Creek (KY)       coal  POINT(-85.9103 38.0525)  \n",
       "1           NaN  Mill Creek (KY)       coal  POINT(-85.9103 38.0525)  \n",
       "2           NaN  Mill Creek (KY)       coal  POINT(-85.9103 38.0525)  \n",
       "3           NaN  Mill Creek (KY)       coal  POINT(-85.9103 38.0525)  \n",
       "4           NaN  Mill Creek (KY)       coal  POINT(-85.9103 38.0525)  "
      ]
     },
     "execution_count": 3,
     "metadata": {},
     "output_type": "execute_result"
    }
   ],
   "source": [
    "df = pd.read_csv('asset_electricity-generation_emissions.csv', parse_dates = True)\n",
    "df.head()"
   ]
  },
  {
   "cell_type": "code",
   "execution_count": 4,
   "metadata": {},
   "outputs": [
    {
     "data": {
      "text/plain": [
       "(8820, 20)"
      ]
     },
     "execution_count": 4,
     "metadata": {},
     "output_type": "execute_result"
    }
   ],
   "source": [
    "df.shape"
   ]
  },
  {
   "cell_type": "code",
   "execution_count": 5,
   "metadata": {
    "scrolled": false
   },
   "outputs": [
    {
     "data": {
      "text/html": [
       "<div>\n",
       "<style scoped>\n",
       "    .dataframe tbody tr th:only-of-type {\n",
       "        vertical-align: middle;\n",
       "    }\n",
       "\n",
       "    .dataframe tbody tr th {\n",
       "        vertical-align: top;\n",
       "    }\n",
       "\n",
       "    .dataframe thead th {\n",
       "        text-align: right;\n",
       "    }\n",
       "</style>\n",
       "<table border=\"1\" class=\"dataframe\">\n",
       "  <thead>\n",
       "    <tr style=\"text-align: right;\">\n",
       "      <th></th>\n",
       "      <th>asset_id</th>\n",
       "      <th>iso3_country</th>\n",
       "      <th>original_inventory_sector</th>\n",
       "      <th>start_time</th>\n",
       "      <th>end_time</th>\n",
       "      <th>temporal_granularity</th>\n",
       "      <th>gas</th>\n",
       "      <th>emissions_quantity</th>\n",
       "      <th>emissions_factor</th>\n",
       "      <th>emissions_factor_units</th>\n",
       "      <th>capacity</th>\n",
       "      <th>capacity_units</th>\n",
       "      <th>capacity_factor</th>\n",
       "      <th>activity</th>\n",
       "      <th>activity_units</th>\n",
       "      <th>created_date</th>\n",
       "      <th>modified_date</th>\n",
       "      <th>asset_name</th>\n",
       "      <th>asset_type</th>\n",
       "      <th>st_astext</th>\n",
       "    </tr>\n",
       "  </thead>\n",
       "  <tbody>\n",
       "    <tr>\n",
       "      <th>count</th>\n",
       "      <td>8.820000e+03</td>\n",
       "      <td>8820</td>\n",
       "      <td>8820</td>\n",
       "      <td>8820</td>\n",
       "      <td>8820</td>\n",
       "      <td>8820</td>\n",
       "      <td>8820</td>\n",
       "      <td>5.576000e+03</td>\n",
       "      <td>1764.000000</td>\n",
       "      <td>8820</td>\n",
       "      <td>8820.000000</td>\n",
       "      <td>8820</td>\n",
       "      <td>8820.000000</td>\n",
       "      <td>8.820000e+03</td>\n",
       "      <td>8820</td>\n",
       "      <td>8820</td>\n",
       "      <td>5092</td>\n",
       "      <td>8820</td>\n",
       "      <td>8820</td>\n",
       "      <td>8820</td>\n",
       "    </tr>\n",
       "    <tr>\n",
       "      <th>unique</th>\n",
       "      <td>NaN</td>\n",
       "      <td>45</td>\n",
       "      <td>1</td>\n",
       "      <td>3</td>\n",
       "      <td>3</td>\n",
       "      <td>1</td>\n",
       "      <td>5</td>\n",
       "      <td>NaN</td>\n",
       "      <td>NaN</td>\n",
       "      <td>1</td>\n",
       "      <td>NaN</td>\n",
       "      <td>1</td>\n",
       "      <td>NaN</td>\n",
       "      <td>NaN</td>\n",
       "      <td>1</td>\n",
       "      <td>969</td>\n",
       "      <td>79</td>\n",
       "      <td>601</td>\n",
       "      <td>29</td>\n",
       "      <td>601</td>\n",
       "    </tr>\n",
       "    <tr>\n",
       "      <th>top</th>\n",
       "      <td>NaN</td>\n",
       "      <td>CHN</td>\n",
       "      <td>electricity-generation</td>\n",
       "      <td>2020-01-01 00:00:00</td>\n",
       "      <td>2020-12-31 00:00:00</td>\n",
       "      <td>annual</td>\n",
       "      <td>co2</td>\n",
       "      <td>NaN</td>\n",
       "      <td>NaN</td>\n",
       "      <td>tonnes_gas_per_MWh</td>\n",
       "      <td>NaN</td>\n",
       "      <td>PP_max_capacity(MW)</td>\n",
       "      <td>NaN</td>\n",
       "      <td>NaN</td>\n",
       "      <td>generation_MWh</td>\n",
       "      <td>2022-09-01 16:53:38.166045</td>\n",
       "      <td>2022-10-03 21:51:06.994252</td>\n",
       "      <td>Mill Creek (KY)</td>\n",
       "      <td>coal</td>\n",
       "      <td>POINT(-85.9103 38.0525)</td>\n",
       "    </tr>\n",
       "    <tr>\n",
       "      <th>freq</th>\n",
       "      <td>NaN</td>\n",
       "      <td>4120</td>\n",
       "      <td>8820</td>\n",
       "      <td>2965</td>\n",
       "      <td>2965</td>\n",
       "      <td>8820</td>\n",
       "      <td>1764</td>\n",
       "      <td>NaN</td>\n",
       "      <td>NaN</td>\n",
       "      <td>8820</td>\n",
       "      <td>NaN</td>\n",
       "      <td>8820</td>\n",
       "      <td>NaN</td>\n",
       "      <td>NaN</td>\n",
       "      <td>8820</td>\n",
       "      <td>15</td>\n",
       "      <td>100</td>\n",
       "      <td>15</td>\n",
       "      <td>7175</td>\n",
       "      <td>15</td>\n",
       "    </tr>\n",
       "    <tr>\n",
       "      <th>mean</th>\n",
       "      <td>3.546798e+06</td>\n",
       "      <td>NaN</td>\n",
       "      <td>NaN</td>\n",
       "      <td>NaN</td>\n",
       "      <td>NaN</td>\n",
       "      <td>NaN</td>\n",
       "      <td>NaN</td>\n",
       "      <td>9.279217e+06</td>\n",
       "      <td>0.916896</td>\n",
       "      <td>NaN</td>\n",
       "      <td>2393.867347</td>\n",
       "      <td>NaN</td>\n",
       "      <td>0.531127</td>\n",
       "      <td>1.088867e+07</td>\n",
       "      <td>NaN</td>\n",
       "      <td>NaN</td>\n",
       "      <td>NaN</td>\n",
       "      <td>NaN</td>\n",
       "      <td>NaN</td>\n",
       "      <td>NaN</td>\n",
       "    </tr>\n",
       "    <tr>\n",
       "      <th>std</th>\n",
       "      <td>4.319643e+06</td>\n",
       "      <td>NaN</td>\n",
       "      <td>NaN</td>\n",
       "      <td>NaN</td>\n",
       "      <td>NaN</td>\n",
       "      <td>NaN</td>\n",
       "      <td>NaN</td>\n",
       "      <td>5.108457e+06</td>\n",
       "      <td>0.176038</td>\n",
       "      <td>NaN</td>\n",
       "      <td>1179.084387</td>\n",
       "      <td>NaN</td>\n",
       "      <td>0.100366</td>\n",
       "      <td>5.303391e+06</td>\n",
       "      <td>NaN</td>\n",
       "      <td>NaN</td>\n",
       "      <td>NaN</td>\n",
       "      <td>NaN</td>\n",
       "      <td>NaN</td>\n",
       "      <td>NaN</td>\n",
       "    </tr>\n",
       "    <tr>\n",
       "      <th>min</th>\n",
       "      <td>1.669940e+06</td>\n",
       "      <td>NaN</td>\n",
       "      <td>NaN</td>\n",
       "      <td>NaN</td>\n",
       "      <td>NaN</td>\n",
       "      <td>NaN</td>\n",
       "      <td>NaN</td>\n",
       "      <td>0.000000e+00</td>\n",
       "      <td>0.363000</td>\n",
       "      <td>NaN</td>\n",
       "      <td>430.000000</td>\n",
       "      <td>NaN</td>\n",
       "      <td>0.169000</td>\n",
       "      <td>1.218000e+06</td>\n",
       "      <td>NaN</td>\n",
       "      <td>NaN</td>\n",
       "      <td>NaN</td>\n",
       "      <td>NaN</td>\n",
       "      <td>NaN</td>\n",
       "      <td>NaN</td>\n",
       "    </tr>\n",
       "    <tr>\n",
       "      <th>25%</th>\n",
       "      <td>1.670088e+06</td>\n",
       "      <td>NaN</td>\n",
       "      <td>NaN</td>\n",
       "      <td>NaN</td>\n",
       "      <td>NaN</td>\n",
       "      <td>NaN</td>\n",
       "      <td>NaN</td>\n",
       "      <td>6.212750e+06</td>\n",
       "      <td>0.897000</td>\n",
       "      <td>NaN</td>\n",
       "      <td>1440.000000</td>\n",
       "      <td>NaN</td>\n",
       "      <td>0.471000</td>\n",
       "      <td>7.072500e+06</td>\n",
       "      <td>NaN</td>\n",
       "      <td>NaN</td>\n",
       "      <td>NaN</td>\n",
       "      <td>NaN</td>\n",
       "      <td>NaN</td>\n",
       "      <td>NaN</td>\n",
       "    </tr>\n",
       "    <tr>\n",
       "      <th>50%</th>\n",
       "      <td>1.670237e+06</td>\n",
       "      <td>NaN</td>\n",
       "      <td>NaN</td>\n",
       "      <td>NaN</td>\n",
       "      <td>NaN</td>\n",
       "      <td>NaN</td>\n",
       "      <td>NaN</td>\n",
       "      <td>8.226000e+06</td>\n",
       "      <td>0.897000</td>\n",
       "      <td>NaN</td>\n",
       "      <td>2060.000000</td>\n",
       "      <td>NaN</td>\n",
       "      <td>0.553000</td>\n",
       "      <td>9.579000e+06</td>\n",
       "      <td>NaN</td>\n",
       "      <td>NaN</td>\n",
       "      <td>NaN</td>\n",
       "      <td>NaN</td>\n",
       "      <td>NaN</td>\n",
       "      <td>NaN</td>\n",
       "    </tr>\n",
       "    <tr>\n",
       "      <th>75%</th>\n",
       "      <td>1.670388e+06</td>\n",
       "      <td>NaN</td>\n",
       "      <td>NaN</td>\n",
       "      <td>NaN</td>\n",
       "      <td>NaN</td>\n",
       "      <td>NaN</td>\n",
       "      <td>NaN</td>\n",
       "      <td>1.122900e+07</td>\n",
       "      <td>0.937000</td>\n",
       "      <td>NaN</td>\n",
       "      <td>2822.000000</td>\n",
       "      <td>NaN</td>\n",
       "      <td>0.583000</td>\n",
       "      <td>1.312550e+07</td>\n",
       "      <td>NaN</td>\n",
       "      <td>NaN</td>\n",
       "      <td>NaN</td>\n",
       "      <td>NaN</td>\n",
       "      <td>NaN</td>\n",
       "      <td>NaN</td>\n",
       "    </tr>\n",
       "    <tr>\n",
       "      <th>max</th>\n",
       "      <td>1.633288e+07</td>\n",
       "      <td>NaN</td>\n",
       "      <td>NaN</td>\n",
       "      <td>NaN</td>\n",
       "      <td>NaN</td>\n",
       "      <td>NaN</td>\n",
       "      <td>NaN</td>\n",
       "      <td>3.749700e+07</td>\n",
       "      <td>2.432000</td>\n",
       "      <td>NaN</td>\n",
       "      <td>8898.000000</td>\n",
       "      <td>NaN</td>\n",
       "      <td>1.000000</td>\n",
       "      <td>3.793000e+07</td>\n",
       "      <td>NaN</td>\n",
       "      <td>NaN</td>\n",
       "      <td>NaN</td>\n",
       "      <td>NaN</td>\n",
       "      <td>NaN</td>\n",
       "      <td>NaN</td>\n",
       "    </tr>\n",
       "  </tbody>\n",
       "</table>\n",
       "</div>"
      ],
      "text/plain": [
       "            asset_id iso3_country original_inventory_sector  \\\n",
       "count   8.820000e+03         8820                      8820   \n",
       "unique           NaN           45                         1   \n",
       "top              NaN          CHN    electricity-generation   \n",
       "freq             NaN         4120                      8820   \n",
       "mean    3.546798e+06          NaN                       NaN   \n",
       "std     4.319643e+06          NaN                       NaN   \n",
       "min     1.669940e+06          NaN                       NaN   \n",
       "25%     1.670088e+06          NaN                       NaN   \n",
       "50%     1.670237e+06          NaN                       NaN   \n",
       "75%     1.670388e+06          NaN                       NaN   \n",
       "max     1.633288e+07          NaN                       NaN   \n",
       "\n",
       "                 start_time             end_time temporal_granularity   gas  \\\n",
       "count                  8820                 8820                 8820  8820   \n",
       "unique                    3                    3                    1     5   \n",
       "top     2020-01-01 00:00:00  2020-12-31 00:00:00               annual   co2   \n",
       "freq                   2965                 2965                 8820  1764   \n",
       "mean                    NaN                  NaN                  NaN   NaN   \n",
       "std                     NaN                  NaN                  NaN   NaN   \n",
       "min                     NaN                  NaN                  NaN   NaN   \n",
       "25%                     NaN                  NaN                  NaN   NaN   \n",
       "50%                     NaN                  NaN                  NaN   NaN   \n",
       "75%                     NaN                  NaN                  NaN   NaN   \n",
       "max                     NaN                  NaN                  NaN   NaN   \n",
       "\n",
       "        emissions_quantity  emissions_factor emissions_factor_units  \\\n",
       "count         5.576000e+03       1764.000000                   8820   \n",
       "unique                 NaN               NaN                      1   \n",
       "top                    NaN               NaN     tonnes_gas_per_MWh   \n",
       "freq                   NaN               NaN                   8820   \n",
       "mean          9.279217e+06          0.916896                    NaN   \n",
       "std           5.108457e+06          0.176038                    NaN   \n",
       "min           0.000000e+00          0.363000                    NaN   \n",
       "25%           6.212750e+06          0.897000                    NaN   \n",
       "50%           8.226000e+06          0.897000                    NaN   \n",
       "75%           1.122900e+07          0.937000                    NaN   \n",
       "max           3.749700e+07          2.432000                    NaN   \n",
       "\n",
       "           capacity       capacity_units  capacity_factor      activity  \\\n",
       "count   8820.000000                 8820      8820.000000  8.820000e+03   \n",
       "unique          NaN                    1              NaN           NaN   \n",
       "top             NaN  PP_max_capacity(MW)              NaN           NaN   \n",
       "freq            NaN                 8820              NaN           NaN   \n",
       "mean    2393.867347                  NaN         0.531127  1.088867e+07   \n",
       "std     1179.084387                  NaN         0.100366  5.303391e+06   \n",
       "min      430.000000                  NaN         0.169000  1.218000e+06   \n",
       "25%     1440.000000                  NaN         0.471000  7.072500e+06   \n",
       "50%     2060.000000                  NaN         0.553000  9.579000e+06   \n",
       "75%     2822.000000                  NaN         0.583000  1.312550e+07   \n",
       "max     8898.000000                  NaN         1.000000  3.793000e+07   \n",
       "\n",
       "        activity_units                created_date  \\\n",
       "count             8820                        8820   \n",
       "unique               1                         969   \n",
       "top     generation_MWh  2022-09-01 16:53:38.166045   \n",
       "freq              8820                          15   \n",
       "mean               NaN                         NaN   \n",
       "std                NaN                         NaN   \n",
       "min                NaN                         NaN   \n",
       "25%                NaN                         NaN   \n",
       "50%                NaN                         NaN   \n",
       "75%                NaN                         NaN   \n",
       "max                NaN                         NaN   \n",
       "\n",
       "                     modified_date       asset_name asset_type  \\\n",
       "count                         5092             8820       8820   \n",
       "unique                          79              601         29   \n",
       "top     2022-10-03 21:51:06.994252  Mill Creek (KY)       coal   \n",
       "freq                           100               15       7175   \n",
       "mean                           NaN              NaN        NaN   \n",
       "std                            NaN              NaN        NaN   \n",
       "min                            NaN              NaN        NaN   \n",
       "25%                            NaN              NaN        NaN   \n",
       "50%                            NaN              NaN        NaN   \n",
       "75%                            NaN              NaN        NaN   \n",
       "max                            NaN              NaN        NaN   \n",
       "\n",
       "                      st_astext  \n",
       "count                      8820  \n",
       "unique                      601  \n",
       "top     POINT(-85.9103 38.0525)  \n",
       "freq                         15  \n",
       "mean                        NaN  \n",
       "std                         NaN  \n",
       "min                         NaN  \n",
       "25%                         NaN  \n",
       "50%                         NaN  \n",
       "75%                         NaN  \n",
       "max                         NaN  "
      ]
     },
     "execution_count": 5,
     "metadata": {},
     "output_type": "execute_result"
    }
   ],
   "source": [
    "df.describe(include='all')"
   ]
  },
  {
   "cell_type": "markdown",
   "metadata": {},
   "source": [
    "### Preliminary Data Visualizations "
   ]
  },
  {
   "cell_type": "markdown",
   "metadata": {},
   "source": [
    "Prior to cleaning the data, we wanted to explore and understand the data we have in preparation for analysis. We created a heatmap to help visually display the correlation between the variables in the columns that we decided to focus on. Heatmaps display a measure of dependency based on color. In our heatmap, the darker the color, the higher the correlation. As you can see from the heatmap below, there was a linear and strong correlation between certain variables. "
   ]
  },
  {
   "cell_type": "code",
   "execution_count": 6,
   "metadata": {},
   "outputs": [
    {
     "data": {
      "image/png": "[encoded data removed]",
      "text/plain": [
       "<Figure size 640x480 with 2 Axes>"
      ]
     },
     "metadata": {},
     "output_type": "display_data"
    }
   ],
   "source": [
    "cor = df.corr(numeric_only = True)\n",
    "sns.heatmap(cor, cmap=\"crest\")\n",
    "plt.title('Heatmap of emissions quantity dataset')\n",
    "plt.show()"
   ]
  },
  {
   "cell_type": "markdown",
   "metadata": {},
   "source": [
    "### Data Preparation - EDA"
   ]
  },
  {
   "cell_type": "markdown",
   "metadata": {},
   "source": [
    "Prior to analyzing the data, we must perform the necessary steps to clean the data. It was expected that there would be empty values for some of the categories since not all information about an asset may be known.\n",
    "\n",
    "Steps to take:\n",
    "- Replace all NaN or missing values with 0 and remove unnecessary columns (that we felt do not affect emissions quantity)\n",
    "- Change the datatype of features accordingly\n",
    "- Drop duplicate emission quantities (gas labelled co2_20yr and co2_100yr have the same values as the co2) and select only the co2 gas type emissions"
   ]
  },
  {
   "cell_type": "code",
   "execution_count": 7,
   "metadata": {},
   "outputs": [
    {
     "name": "stdout",
     "output_type": "stream",
     "text": [
      "<class 'pandas.core.frame.DataFrame'>\n",
      "RangeIndex: 8820 entries, 0 to 8819\n",
      "Data columns (total 20 columns):\n",
      " #   Column                     Non-Null Count  Dtype  \n",
      "---  ------                     --------------  -----  \n",
      " 0   asset_id                   8820 non-null   int64  \n",
      " 1   iso3_country               8820 non-null   object \n",
      " 2   original_inventory_sector  8820 non-null   object \n",
      " 3   start_time                 8820 non-null   object \n",
      " 4   end_time                   8820 non-null   object \n",
      " 5   temporal_granularity       8820 non-null   object \n",
      " 6   gas                        8820 non-null   object \n",
      " 7   emissions_quantity         5576 non-null   float64\n",
      " 8   emissions_factor           1764 non-null   float64\n",
      " 9   emissions_factor_units     8820 non-null   object \n",
      " 10  capacity                   8820 non-null   int64  \n",
      " 11  capacity_units             8820 non-null   object \n",
      " 12  capacity_factor            8820 non-null   float64\n",
      " 13  activity                   8820 non-null   int64  \n",
      " 14  activity_units             8820 non-null   object \n",
      " 15  created_date               8820 non-null   object \n",
      " 16  modified_date              5092 non-null   object \n",
      " 17  asset_name                 8820 non-null   object \n",
      " 18  asset_type                 8820 non-null   object \n",
      " 19  st_astext                  8820 non-null   object \n",
      "dtypes: float64(3), int64(3), object(14)\n",
      "memory usage: 1.3+ MB\n"
     ]
    }
   ],
   "source": [
    "df.info()"
   ]
  },
  {
   "cell_type": "code",
   "execution_count": 8,
   "metadata": {},
   "outputs": [
    {
     "data": {
      "text/plain": [
       "asset_id                        0\n",
       "iso3_country                    0\n",
       "original_inventory_sector       0\n",
       "start_time                      0\n",
       "end_time                        0\n",
       "temporal_granularity            0\n",
       "gas                             0\n",
       "emissions_quantity           3244\n",
       "emissions_factor             7056\n",
       "emissions_factor_units          0\n",
       "capacity                        0\n",
       "capacity_units                  0\n",
       "capacity_factor                 0\n",
       "activity                        0\n",
       "activity_units                  0\n",
       "created_date                    0\n",
       "modified_date                3728\n",
       "asset_name                      0\n",
       "asset_type                      0\n",
       "st_astext                       0\n",
       "dtype: int64"
      ]
     },
     "execution_count": 8,
     "metadata": {},
     "output_type": "execute_result"
    }
   ],
   "source": [
    "# see if any columns have null values\n",
    "df.isnull().sum()"
   ]
  },
  {
   "cell_type": "code",
   "execution_count": 9,
   "metadata": {
    "scrolled": true
   },
   "outputs": [
    {
     "data": {
      "text/plain": [
       "True     7056\n",
       "False    1764\n",
       "Name: emissions_factor, dtype: int64"
      ]
     },
     "execution_count": 9,
     "metadata": {},
     "output_type": "execute_result"
    }
   ],
   "source": [
    "# true is the number of NaN values\n",
    "df['emissions_factor'].isnull().value_counts()"
   ]
  },
  {
   "cell_type": "code",
   "execution_count": 10,
   "metadata": {
    "scrolled": true
   },
   "outputs": [
    {
     "data": {
      "text/plain": [
       "False    5092\n",
       "True     3728\n",
       "Name: modified_date, dtype: int64"
      ]
     },
     "execution_count": 10,
     "metadata": {},
     "output_type": "execute_result"
    }
   ],
   "source": [
    "# true is the number of NaN values\n",
    "df['modified_date'].isnull().value_counts()"
   ]
  },
  {
   "cell_type": "markdown",
   "metadata": {},
   "source": [
    "Since majority of the emission factor values for each asset are unknown, we will remove this column entirely. The start time, end time, created date, modified date, and coordinates are also not relevant in predicting the emission quantities, so we will remove them as well. The units for each of the features were redundant, so they were removed too. "
   ]
  },
  {
   "cell_type": "code",
   "execution_count": 11,
   "metadata": {},
   "outputs": [],
   "source": [
    "df = df.drop(['emissions_factor', 'start_time', 'end_time', 'created_date', 'modified_date', 'st_astext'], axis=1)"
   ]
  },
  {
   "cell_type": "code",
   "execution_count": 12,
   "metadata": {},
   "outputs": [],
   "source": [
    "df = df.drop(['emissions_factor_units', 'capacity_units', 'activity_units', 'temporal_granularity', 'original_inventory_sector'], axis=1)"
   ]
  },
  {
   "cell_type": "markdown",
   "metadata": {},
   "source": [
    "With the remaining features in the dataframe, we will convert them into the appropriate data types."
   ]
  },
  {
   "cell_type": "code",
   "execution_count": 13,
   "metadata": {},
   "outputs": [],
   "source": [
    "# convert variables to the correct data type\n",
    "df['iso3_country'] = df['iso3_country'].astype('string')\n",
    "df['asset_name'] = df['asset_name'].astype('string')\n",
    "df['asset_type'] = df['asset_type'].astype('string')\n",
    "df['capacity'] = df['capacity'].astype('Int64')\n",
    "df['gas'] = df['gas'].astype('string')"
   ]
  },
  {
   "cell_type": "code",
   "execution_count": 14,
   "metadata": {
    "scrolled": true
   },
   "outputs": [
    {
     "data": {
      "text/plain": [
       "0.612    605\n",
       "0.568    600\n",
       "0.574    560\n",
       "0.523    220\n",
       "0.553    205\n",
       "        ... \n",
       "0.748      5\n",
       "0.307      5\n",
       "1.000      5\n",
       "0.773      5\n",
       "0.332      5\n",
       "Name: capacity_factor, Length: 386, dtype: int64"
      ]
     },
     "execution_count": 14,
     "metadata": {},
     "output_type": "execute_result"
    }
   ],
   "source": [
    "# should have dtype of float\n",
    "df['capacity_factor'].value_counts()"
   ]
  },
  {
   "cell_type": "code",
   "execution_count": 15,
   "metadata": {
    "scrolled": true
   },
   "outputs": [
    {
     "name": "stdout",
     "output_type": "stream",
     "text": [
      "<class 'pandas.core.frame.DataFrame'>\n",
      "RangeIndex: 8820 entries, 0 to 8819\n",
      "Data columns (total 9 columns):\n",
      " #   Column              Non-Null Count  Dtype  \n",
      "---  ------              --------------  -----  \n",
      " 0   asset_id            8820 non-null   int64  \n",
      " 1   iso3_country        8820 non-null   string \n",
      " 2   gas                 8820 non-null   string \n",
      " 3   emissions_quantity  5576 non-null   float64\n",
      " 4   capacity            8820 non-null   Int64  \n",
      " 5   capacity_factor     8820 non-null   float64\n",
      " 6   activity            8820 non-null   int64  \n",
      " 7   asset_name          8820 non-null   string \n",
      " 8   asset_type          8820 non-null   string \n",
      "dtypes: Int64(1), float64(2), int64(2), string(4)\n",
      "memory usage: 628.9 KB\n"
     ]
    }
   ],
   "source": [
    "# check the datatypes\n",
    "df.info()"
   ]
  },
  {
   "cell_type": "code",
   "execution_count": 16,
   "metadata": {},
   "outputs": [
    {
     "data": {
      "text/plain": [
       "co2           1764\n",
       "ch4           1764\n",
       "n2o           1764\n",
       "co2e_100yr    1764\n",
       "co2e_20yr     1764\n",
       "Name: gas, dtype: Int64"
      ]
     },
     "execution_count": 16,
     "metadata": {},
     "output_type": "execute_result"
    }
   ],
   "source": [
    "df['gas'].value_counts()"
   ]
  },
  {
   "cell_type": "code",
   "execution_count": 17,
   "metadata": {
    "scrolled": true
   },
   "outputs": [
    {
     "data": {
      "text/html": [
       "<div>\n",
       "<style scoped>\n",
       "    .dataframe tbody tr th:only-of-type {\n",
       "        vertical-align: middle;\n",
       "    }\n",
       "\n",
       "    .dataframe tbody tr th {\n",
       "        vertical-align: top;\n",
       "    }\n",
       "\n",
       "    .dataframe thead th {\n",
       "        text-align: right;\n",
       "    }\n",
       "</style>\n",
       "<table border=\"1\" class=\"dataframe\">\n",
       "  <thead>\n",
       "    <tr style=\"text-align: right;\">\n",
       "      <th></th>\n",
       "      <th>asset_id</th>\n",
       "      <th>iso3_country</th>\n",
       "      <th>gas</th>\n",
       "      <th>emissions_quantity</th>\n",
       "      <th>capacity</th>\n",
       "      <th>capacity_factor</th>\n",
       "      <th>activity</th>\n",
       "      <th>asset_name</th>\n",
       "      <th>asset_type</th>\n",
       "    </tr>\n",
       "  </thead>\n",
       "  <tbody>\n",
       "    <tr>\n",
       "      <th>0</th>\n",
       "      <td>1670320</td>\n",
       "      <td>USA</td>\n",
       "      <td>co2</td>\n",
       "      <td>6853000.0</td>\n",
       "      <td>1717</td>\n",
       "      <td>0.487</td>\n",
       "      <td>7339000</td>\n",
       "      <td>Mill Creek (KY)</td>\n",
       "      <td>coal</td>\n",
       "    </tr>\n",
       "    <tr>\n",
       "      <th>9</th>\n",
       "      <td>1670378</td>\n",
       "      <td>IND</td>\n",
       "      <td>co2</td>\n",
       "      <td>5769000.0</td>\n",
       "      <td>1340</td>\n",
       "      <td>0.523</td>\n",
       "      <td>6156000</td>\n",
       "      <td>Khaperkheda power station</td>\n",
       "      <td>coal</td>\n",
       "    </tr>\n",
       "    <tr>\n",
       "      <th>13</th>\n",
       "      <td>1670378</td>\n",
       "      <td>IND</td>\n",
       "      <td>co2</td>\n",
       "      <td>6083000.0</td>\n",
       "      <td>1340</td>\n",
       "      <td>0.553</td>\n",
       "      <td>6491000</td>\n",
       "      <td>Khaperkheda power station</td>\n",
       "      <td>coal</td>\n",
       "    </tr>\n",
       "    <tr>\n",
       "      <th>18</th>\n",
       "      <td>1670378</td>\n",
       "      <td>IND</td>\n",
       "      <td>co2</td>\n",
       "      <td>6259000.0</td>\n",
       "      <td>1340</td>\n",
       "      <td>0.569</td>\n",
       "      <td>6679000</td>\n",
       "      <td>Khaperkheda power station</td>\n",
       "      <td>coal</td>\n",
       "    </tr>\n",
       "    <tr>\n",
       "      <th>25</th>\n",
       "      <td>1670107</td>\n",
       "      <td>IND</td>\n",
       "      <td>co2</td>\n",
       "      <td>10623000.0</td>\n",
       "      <td>2340</td>\n",
       "      <td>0.553</td>\n",
       "      <td>11336000</td>\n",
       "      <td>Kahalgaon Super Thermal Power Plant</td>\n",
       "      <td>coal</td>\n",
       "    </tr>\n",
       "  </tbody>\n",
       "</table>\n",
       "</div>"
      ],
      "text/plain": [
       "    asset_id iso3_country  gas  emissions_quantity  capacity  capacity_factor  \\\n",
       "0    1670320          USA  co2           6853000.0      1717            0.487   \n",
       "9    1670378          IND  co2           5769000.0      1340            0.523   \n",
       "13   1670378          IND  co2           6083000.0      1340            0.553   \n",
       "18   1670378          IND  co2           6259000.0      1340            0.569   \n",
       "25   1670107          IND  co2          10623000.0      2340            0.553   \n",
       "\n",
       "    activity                           asset_name asset_type  \n",
       "0    7339000                      Mill Creek (KY)       coal  \n",
       "9    6156000            Khaperkheda power station       coal  \n",
       "13   6491000            Khaperkheda power station       coal  \n",
       "18   6679000            Khaperkheda power station       coal  \n",
       "25  11336000  Kahalgaon Super Thermal Power Plant       coal  "
      ]
     },
     "execution_count": 17,
     "metadata": {},
     "output_type": "execute_result"
    }
   ],
   "source": [
    "# select only the co2 gas type emissions\n",
    "df = df[df.gas == 'co2']\n",
    "df.head()"
   ]
  },
  {
   "cell_type": "code",
   "execution_count": 18,
   "metadata": {
    "scrolled": true
   },
   "outputs": [
    {
     "data": {
      "text/plain": [
       "asset_id              0\n",
       "iso3_country          0\n",
       "gas                   0\n",
       "emissions_quantity    0\n",
       "capacity              0\n",
       "capacity_factor       0\n",
       "activity              0\n",
       "asset_name            0\n",
       "asset_type            0\n",
       "dtype: int64"
      ]
     },
     "execution_count": 18,
     "metadata": {},
     "output_type": "execute_result"
    }
   ],
   "source": [
    "# check for nan values\n",
    "df.isnull().sum()"
   ]
  },
  {
   "cell_type": "markdown",
   "metadata": {},
   "source": [
    "## Data Visualizations"
   ]
  },
  {
   "cell_type": "markdown",
   "metadata": {},
   "source": [
    "To visualize the data, we wanted to inspect the target variable, emissions quantity, across the dataset. "
   ]
  },
  {
   "cell_type": "markdown",
   "metadata": {},
   "source": [
    "### Emissions Quantity by Assets"
   ]
  },
  {
   "cell_type": "markdown",
   "metadata": {},
   "source": [
    "First, we made a bar graph of the top five assets producing the highest emissions quantities. Notice how the emission quantity is 10^7 tonnes of co2 gas, which goes to show the magnitude of values that the dataset contains."
   ]
  },
  {
   "cell_type": "code",
   "execution_count": 19,
   "metadata": {},
   "outputs": [],
   "source": [
    "# df from high emission groupby \n",
    "high_em = df.groupby(['asset_id', 'iso3_country', 'asset_name'])['emissions_quantity'].mean().reset_index()\n",
    "# df from high emission groupby top 5\n",
    "high_em5 = df.groupby(['asset_id', 'iso3_country', 'asset_name'])['emissions_quantity'].mean().reset_index().head(5)"
   ]
  },
  {
   "cell_type": "code",
   "execution_count": 20,
   "metadata": {},
   "outputs": [
    {
     "data": {
      "text/plain": [
       "3.439500e+07    1\n",
       "3.350033e+07    1\n",
       "3.298433e+07    1\n",
       "2.427467e+07    1\n",
       "2.329867e+07    1\n",
       "Name: emissions_quantity, dtype: int64"
      ]
     },
     "execution_count": 20,
     "metadata": {},
     "output_type": "execute_result"
    }
   ],
   "source": [
    "high_em5['emissions_quantity'].value_counts()"
   ]
  },
  {
   "cell_type": "code",
   "execution_count": 21,
   "metadata": {
    "scrolled": true
   },
   "outputs": [
    {
     "data": {
      "image/png": "[encoded data removed]",
      "text/plain": [
       "<Figure size 1500x700 with 1 Axes>"
      ]
     },
     "metadata": {},
     "output_type": "display_data"
    }
   ],
   "source": [
    "# graph emission qauntity by assets\n",
    "fig = plt.figure(figsize =(15, 7))\n",
    "plt.bar(high_em5['asset_name'], high_em5['emissions_quantity'], color = 'tan')\n",
    "\n",
    "plt.rcParams['font.family'] = 'sans-serif'\n",
    "plt.rcParams['font.sans-serif'] = 'Helvetica'\n",
    "\n",
    "plt.rcParams['axes.edgecolor']='#333F4B'\n",
    "plt.rcParams['axes.linewidth']=0.8\n",
    "plt.rcParams['xtick.color']='#333F4B'\n",
    "plt.rcParams['ytick.color']='#333F4B'\n",
    "\n",
    "plt.title('Emission Quantity by Assets')\n",
    "plt.ylabel('CO2 emission quantity')\n",
    "plt.xlabel('Asset name')\n",
    "plt.show()\n"
   ]
  },
  {
   "cell_type": "markdown",
   "metadata": {},
   "source": [
    "### Emissions Quantity by Country"
   ]
  },
  {
   "cell_type": "markdown",
   "metadata": {},
   "source": [
    "Next, we made a bar graph that depicts the top 10 emission quantities produced by country."
   ]
  },
  {
   "cell_type": "code",
   "execution_count": 22,
   "metadata": {
    "scrolled": true
   },
   "outputs": [
    {
     "name": "stderr",
     "output_type": "stream",
     "text": [
      "/var/folders/yl/3zqq2j6j49nb0w3cpkr4pyv00000gn/T/ipykernel_17058/2836228415.py:5: MatplotlibDeprecationWarning: The seaborn styles shipped by Matplotlib are deprecated since 3.6, as they no longer correspond to the styles shipped by seaborn. However, they will remain available as 'seaborn-v0_8-<style>'. Alternatively, directly use the seaborn API instead.\n",
      "  plt.style.use('seaborn-notebook')\n"
     ]
    },
    {
     "data": {
      "image/png": "[encoded data removed]",
      "text/plain": [
       "<Figure size 1500x700 with 1 Axes>"
      ]
     },
     "metadata": {},
     "output_type": "display_data"
    }
   ],
   "source": [
    "# graph emission quantity by country\n",
    "country_em = df.groupby(['iso3_country'])['emissions_quantity'].sum().reset_index().sort_values(by = 'emissions_quantity', ascending = False)\n",
    "country_em10 = country_em.head(10)\n",
    "\n",
    "plt.style.use('seaborn-notebook')\n",
    "fig = plt.figure(figsize =(15, 7))\n",
    "plt.bar(country_em10['iso3_country'], country_em10['emissions_quantity'], color = ['darkgreen'])\n",
    "\n",
    "plt.rcParams['font.family'] = 'sans-serif'\n",
    "plt.rcParams['font.sans-serif'] = 'Helvetica'\n",
    "\n",
    "plt.rcParams['axes.edgecolor']='#333F4B'\n",
    "plt.rcParams['axes.linewidth']=0.8\n",
    "plt.rcParams['xtick.color']='#333F4B'\n",
    "plt.rcParams['ytick.color']='#333F4B'\n",
    "\n",
    "plt.title('Emission Quantity by Country')\n",
    "plt.ylabel('CO2 emission quantity')\n",
    "plt.xlabel('Country')\n",
    "plt.show()"
   ]
  },
  {
   "cell_type": "markdown",
   "metadata": {},
   "source": [
    "## Related Work"
   ]
  },
  {
   "cell_type": "markdown",
   "metadata": {},
   "source": [
    "There are two related pieces of work that we found were helpful in providing a guideline for creating our own model.  \n",
    "\n",
    "**Can Machine Learning be Applied to Carbon Emissions Analysis** focused on the carbon emissions from China using the Gaussian Process Regression and compared the results of that algorithm compared to more traditional methods such as the linear  regression model. In this study we saw that it was very rigid and provided an overfitting problem when predicting emissions. This study shows us an example of the difference in results based on our data features [9]. \n",
    "\n",
    "**Predicting the Environmental Change of Carbon Emission Patterns in South Asia** shared a similar goal with the study above. However, this study used several more advanced methods not covered in this course such as LSTM and BiLSSTM. It demonstrated the benefits of these models and helped us focus on mimicking the features of these models to make our model more accurate [10]. "
   ]
  },
  {
   "cell_type": "markdown",
   "metadata": {},
   "source": [
    "## Model Selection"
   ]
  },
  {
   "cell_type": "markdown",
   "metadata": {},
   "source": [
    "Looking at previous studies related to the prediction of carbon emissions from different asset types, we determined that common algorithms used were Random Forest, Support Vector Machine(SVM), and Decision Tree regression models. Thus, we tested these three models on the dataset with hypertuned parameters (determined by testing a range of values for each parameter) to explore the strengths and weaknesses of each algorithm. \n",
    "\n",
    "To evaluate the performance of each model, the mean score of the estimator, R-squared score (coefficient of determination), was obtained through the best_score_ value."
   ]
  },
  {
   "cell_type": "code",
   "execution_count": 23,
   "metadata": {},
   "outputs": [],
   "source": [
    "# want to predict emissions quantity w/model\n",
    "emissions = 'emissions_quantity'\n",
    "# assign numeric\n",
    "num_features = ['capacity', 'capacity_factor', 'activity']\n",
    "# assign categorical\n",
    "cat_features = ['iso3_country', 'asset_type']"
   ]
  },
  {
   "cell_type": "code",
   "execution_count": 24,
   "metadata": {},
   "outputs": [],
   "source": [
    "# create train and test data\n",
    "train_df, test_df = train_test_split(df, test_size=0.2, random_state=42)"
   ]
  },
  {
   "cell_type": "code",
   "execution_count": 25,
   "metadata": {},
   "outputs": [],
   "source": [
    "# create standard scaler object\n",
    "standardize_num = StandardScaler()\n",
    "# use one hot encoder for categorical\n",
    "standardize_cat = OneHotEncoder(handle_unknown='ignore')"
   ]
  },
  {
   "cell_type": "code",
   "execution_count": 26,
   "metadata": {},
   "outputs": [],
   "source": [
    "# use column transformer w/ numeric + categorical variables\n",
    "preprocessor = ColumnTransformer(\n",
    "    transformers=[\n",
    "        ('num', standardize_num, num_features),\n",
    "        ('cat', standardize_cat, cat_features)])"
   ]
  },
  {
   "cell_type": "code",
   "execution_count": 27,
   "metadata": {},
   "outputs": [],
   "source": [
    "# fit + transform training data w/ all columns\n",
    "X_train = preprocessor.fit_transform(train_df[num_features + cat_features])\n",
    "y_train = train_df[emissions]"
   ]
  },
  {
   "cell_type": "code",
   "execution_count": 28,
   "metadata": {},
   "outputs": [],
   "source": [
    "# fit + transform test data w/ all columns\n",
    "X_test = preprocessor.transform(test_df[num_features + cat_features])\n",
    "y_test = test_df[emissions]"
   ]
  },
  {
   "cell_type": "markdown",
   "metadata": {},
   "source": [
    "### Decision Tree"
   ]
  },
  {
   "cell_type": "code",
   "execution_count": 29,
   "metadata": {},
   "outputs": [
    {
     "data": {
      "text/plain": [
       "GridSearchCV(cv=5, estimator=DecisionTreeRegressor(random_state=42),\n",
       "             param_grid={'max_depth': [1, 2, 3, 4, 5]},\n",
       "             return_train_score=True)"
      ]
     },
     "execution_count": 29,
     "metadata": {},
     "output_type": "execute_result"
    }
   ],
   "source": [
    "#make a decision tree w/ training data\n",
    "dt_regressor = DecisionTreeRegressor(random_state=42)\n",
    "dt_params = {'max_depth': [1, 2, 3, 4, 5]}\n",
    "dt_gridsearch = GridSearchCV(dt_regressor, dt_params, cv=5, return_train_score=True)\n",
    "dt_gridsearch.fit(X_train, y_train)"
   ]
  },
  {
   "cell_type": "code",
   "execution_count": 30,
   "metadata": {},
   "outputs": [
    {
     "name": "stdout",
     "output_type": "stream",
     "text": [
      "Decision Tree Regressor:\n",
      "Best model: DecisionTreeRegressor(max_depth=5, random_state=42)\n",
      "Best score: 0.9161172822561318\n"
     ]
    }
   ],
   "source": [
    "#for decision tree, print best estimator + best score\n",
    "print(\"Decision Tree Regressor:\")\n",
    "print(\"Best model:\", dt_gridsearch.best_estimator_)\n",
    "print(\"Best score:\", dt_gridsearch.best_score_)"
   ]
  },
  {
   "cell_type": "markdown",
   "metadata": {},
   "source": [
    "### Support Vector Machine (SVM)"
   ]
  },
  {
   "cell_type": "code",
   "execution_count": 31,
   "metadata": {},
   "outputs": [
    {
     "data": {
      "text/plain": [
       "GridSearchCV(cv=5, estimator=SVR(),\n",
       "             param_grid={'C': [1, 10, 100], 'gamma': [0.1, 0.01, 0.001]},\n",
       "             return_train_score=True)"
      ]
     },
     "execution_count": 31,
     "metadata": {},
     "output_type": "execute_result"
    }
   ],
   "source": [
    "#use SVR object to do SVM evaluatuon w/ training data\n",
    "svm_regressor = SVR(kernel='rbf')\n",
    "svm_params = {'C': [1, 10, 100], 'gamma': [0.1, 0.01, 0.001]}\n",
    "svm_gridsearch = GridSearchCV(svm_regressor, svm_params, cv=5, return_train_score=True)\n",
    "svm_gridsearch.fit(X_train, y_train)"
   ]
  },
  {
   "cell_type": "code",
   "execution_count": 32,
   "metadata": {},
   "outputs": [
    {
     "name": "stdout",
     "output_type": "stream",
     "text": [
      "Support Vector Regressor:\n",
      "Best model: SVR(C=100, gamma=0.1)\n",
      "Best score: -0.08093498680156234\n"
     ]
    }
   ],
   "source": [
    "#for SVM, print best estimator + best score\n",
    "print(\"Support Vector Regressor:\")\n",
    "print(\"Best model:\", svm_gridsearch.best_estimator_)\n",
    "print(\"Best score:\", svm_gridsearch.best_score_)"
   ]
  },
  {
   "cell_type": "markdown",
   "metadata": {},
   "source": [
    "### Random Forest"
   ]
  },
  {
   "cell_type": "markdown",
   "metadata": {},
   "source": [
    "Our final decision in model selection was based on a continuous and numerical data type, the emissions quantity. After testing various models with optimal parameter values through GridSearchCV, the one that fit the best in terms of best score and accuracy was the **Random Forest Tree Regressor**. With our dataset having a large number of features and the limited need for non-linear evaluation (kernel trick), random forest produced more accurate results and was more suitable to train our model. With numerical features such as capacity, capacity factor, and activity of greenhouse gas emissions and categorical features such as country and asset type (of which we utilized OneHotEncoder), we applied ColumnTransformer to train the data through separate transformers based on the feature type. This created the training set and testing set. The random forest regressor was initialized with a random_state of 42, which ensures the same train and test sets were obtained across different executions. We then selected the most optimal hyper-tuned parameters through GridSearchCV() by testing a range of parameter values for n_estimators and max_depth. After fitting the training set into the model, the best parameters and the best score value were outputted. "
   ]
  },
  {
   "cell_type": "code",
   "execution_count": 33,
   "metadata": {},
   "outputs": [
    {
     "data": {
      "text/plain": [
       "GridSearchCV(cv=5, estimator=RandomForestRegressor(random_state=42),\n",
       "             param_grid={'max_depth': [1, 2, 3, 4, 5],\n",
       "                         'n_estimators': [100, 200, 300]},\n",
       "             return_train_score=True)"
      ]
     },
     "execution_count": 33,
     "metadata": {},
     "output_type": "execute_result"
    }
   ],
   "source": [
    "# create random forest regressor w/ training data\n",
    "rf_regressor = RandomForestRegressor(random_state=42)\n",
    "rf_params = {'n_estimators': [100, 200, 300], 'max_depth': [1, 2, 3, 4, 5]}\n",
    "rf_gridsearch = GridSearchCV(rf_regressor, rf_params, cv=5, return_train_score=True)\n",
    "rf_gridsearch.fit(X_train, y_train)"
   ]
  },
  {
   "cell_type": "code",
   "execution_count": 34,
   "metadata": {},
   "outputs": [
    {
     "name": "stdout",
     "output_type": "stream",
     "text": [
      "Random Forest Regressor:\n",
      "Best model: RandomForestRegressor(max_depth=5, random_state=42)\n",
      "Best score: 0.9333958429249318\n",
      "Best n_estimators value: 100\n"
     ]
    }
   ],
   "source": [
    "# for random forest, print best estimator + best score\n",
    "print(\"Random Forest Regressor:\")\n",
    "print(\"Best model:\", rf_gridsearch.best_estimator_)\n",
    "print(\"Best score:\", rf_gridsearch.best_score_)\n",
    "print(\"Best n_estimators value:\", rf_gridsearch.best_params_['n_estimators'])"
   ]
  },
  {
   "cell_type": "markdown",
   "metadata": {},
   "source": [
    "## Results & Evaluation"
   ]
  },
  {
   "cell_type": "markdown",
   "metadata": {},
   "source": [
    "By testing the range of hypertuning parameters for the random forest regression model, the most optimal parameters were selected through GridSearch cross validation. The best ‘n_estimators’ value was 100 (the number of decision trees in the random forest), ‘max_depth’ value was 5 (the number of levels in each decision tree), and ‘random_state’ was 42. These parameters ensured the model avoided overfitting or underfitting the training sets, while retaining a level of complexity."
   ]
  },
  {
   "cell_type": "markdown",
   "metadata": {},
   "source": [
    "From our analysis of factors like country, gas, asset name and overall activity, we were able to predict with high likelihood what the emissions for a given region would be. In order to find the model with the highest accuracy we judged the best scores of SVM, Random Forest, and Decision Tree regressor models, ultimately concluding that Random Forest model would yield the best results, with a best score of around 0.9334. The model performed fairly well in predicting the emissions quantity. We used best_score_ from sklearn to measure our models due to the fact that it obtains the best hyperparameters over all cross-validation folds using the mean score of the best estimators. With a best score of 0.9334, we can conclude that given the factors of asset id, country, gas, capacity, capacity factor, activity, asset name, and asset type to produce a model that explains 93.34% of the variance in emissions quantity."
   ]
  },
  {
   "cell_type": "code",
   "execution_count": 35,
   "metadata": {
    "scrolled": true
   },
   "outputs": [
    {
     "name": "stdout",
     "output_type": "stream",
     "text": [
      "The predicted carbon emission is: [16392908.0793573   8777191.34149601  5846174.42658383  8938690.2810138\n",
      " 11112987.04136257 17661340.64186871  6031386.92766477 12263867.55584129\n",
      "  7984008.61175096  9699803.45266598  6031386.92766477 10011527.77270278\n",
      "  7074579.60475507  5644052.12189797 11093488.98941451  8607543.69258447\n",
      "  6031386.92766477  6031386.92766477  9948213.68158998  9909875.08623722\n",
      "  7943194.52843117  6031386.92766477  9597235.43393416  7695210.47013279\n",
      "  6031386.92766477  6031386.92766477 30240854.00676937  7943194.52843117\n",
      "  5862376.40060981 12381492.83116883  6031386.92766477  3559809.59866556\n",
      "  6724258.69590682  7527083.60688011  3805221.32567971 13997450.51571029\n",
      "  7429203.5038627   6298776.41050902  6031386.92766477 10308510.45762716\n",
      "  8378029.67996867  6031386.92766477  7870543.7963042   7469214.65195204\n",
      "  6039943.4088655   9512110.44968034 12249672.30526971  6031386.92766477\n",
      " 18233498.1005873  19101428.24049337 11031319.96479406 19452308.39419711\n",
      "  6031386.92766477  9743688.18448892 10422834.33645821 15724115.50414029\n",
      " 12339432.5489543  13565155.40637101 10216674.5393073  13231339.54710439\n",
      "  9446436.60236797  9582999.70213301  5632164.62189797  9080467.99330816\n",
      "  6031386.92766477 11093488.98941451  8663167.09460396  7943194.52843117\n",
      " 12249672.30526971  6039943.4088655   7519306.48310537  9743688.18448892\n",
      "  6039943.4088655  18759760.05016625  7108768.62754692 11122330.91343595\n",
      " 10960194.85322995  6031386.92766477  8715834.74445672 12339432.5489543\n",
      "  7342452.68251043  7696907.07604687  9582999.70213301  3512139.27554281\n",
      " 16717236.02655916  7864127.19671479  9080467.99330816 18458985.73992918\n",
      "  6031386.92766477 12487521.9570117  10505455.53387437  6031386.92766477\n",
      "  9059934.80409076 10246790.6245559  12706303.95030414  6031386.92766477\n",
      "  6039943.4088655   6039943.4088655   6031386.92766477  6031386.92766477\n",
      " 10948840.6753097  11136799.41635993  3644958.62878713 14793177.50594563\n",
      "  6031386.92766477  8367145.50708273 20406368.64592358 11050033.04844486\n",
      "  6031386.92766477 10011527.77270278  8663167.09460396  6031386.92766477\n",
      " 12091399.47055934  8686412.31167823  6031386.92766477  8319602.22551235\n",
      "  8365624.84007521  6031386.92766477  8630436.38026511  8370374.03168021\n",
      "  6031386.92766477 11347791.9683694   8584598.68769776  7943194.52843117\n",
      "  6031386.92766477  6031386.92766477 21325952.51448609  6039943.4088655\n",
      " 11114056.03538717 12856529.8758092   5862376.40060981  7892836.44665931\n",
      "  6031386.92766477  9594859.43505612  9822567.22693639  6039943.4088655\n",
      "  3559809.59866556 33122975.23809525  8162518.10252874  9743688.18448892\n",
      " 12249672.30526971 32924883.18506494  9822567.22693639 10743327.387062\n",
      "  6039943.4088655  10810953.04306296 15444732.11953253  6031386.92766477\n",
      "  9070710.31473674  6031386.92766477  7943194.52843117  6031386.92766477\n",
      " 13795182.72522481  7974143.02172103  7696907.07604687  6031386.92766477\n",
      "  7804173.85674401 12229608.35898872  9706178.17266598 12249672.30526971\n",
      "  7055146.5657711  11105243.63227166  6031386.92766477  6241914.75749614\n",
      "  9916733.93404666  9743688.18448892  7122012.64789131  8081779.34320424\n",
      "  9955636.32696027 17797801.00354187  7612222.33129093  7495022.34490693\n",
      "  8327678.8801991  12339432.5489543   6031386.92766477 11232448.71385566\n",
      " 12820355.74160541  6039943.4088655  13231339.54710439 16575770.45636023\n",
      "  9743688.18448892  6039943.4088655   9724813.44309587  6039943.4088655\n",
      "  7851976.79114924 12249672.30526971 16278605.37275083 15590602.72911585\n",
      "  6039943.4088655   6039943.4088655  15288217.70472612  7929625.67886069\n",
      "  8806612.00770312  2520146.53676559 14239654.12619905 11822319.40560616\n",
      "  3512139.27554281  7974143.02172103  3203095.90331754 20624700.68165834\n",
      "  6031386.92766477  6031386.92766477  6031386.92766477 18402442.20167117\n",
      " 11232448.71385566 18157294.00766271  7749350.47441168  6031386.92766477\n",
      "  6039943.4088655   6031386.92766477 11080272.77597578  8365380.28404684\n",
      "  9822567.22693639  6031386.92766477  6039943.4088655   6039943.4088655\n",
      "  7965894.46616547 11499525.26360893 11842719.42838244  9130472.76603213\n",
      "  9488240.57174475 11039378.61558771  6031386.92766477 18437722.49453346\n",
      "  7943194.52843117  6031386.92766477  8133925.88804934 11656705.82714416\n",
      " 16414682.66269063 12581692.05292288 12881932.4274621   6039943.4088655\n",
      "  8777191.34149601  9690045.77409455  6031386.92766477  6039943.4088655\n",
      " 17250707.22738788 10810953.04306296  6031386.92766477 10746541.21825846\n",
      " 22250267.59701695  6031386.92766477 11105424.4716806   7421858.38845575\n",
      " 22531665.5302934   9799976.70085076  6326676.70525804  7943194.52843117\n",
      " 33138483.97077923  9070710.31473674  9080467.99330816  8343297.85363131\n",
      "  6031386.92766477  6031386.92766477  8631446.15995753  9734571.1216673\n",
      "  9070710.31473674  9690045.77409455 15091415.19171294 11493992.18932585\n",
      " 12670452.04593163  9753445.86306035  6031386.92766477  8222186.07992838\n",
      "  6754385.84590615 12159047.29510424 12524871.52545002 11232448.71385566\n",
      "  6031386.92766477  7943194.52843117 31848334.20093795 12930491.4144843\n",
      "  6031386.92766477 18366694.18268339  9515654.67652198  7655988.18339022\n",
      "  6031386.92766477  6031386.92766477  6031386.92766477  6031386.92766477\n",
      " 11136799.41635993 11093488.98941451  9582839.58276855  7122012.64789131\n",
      "  9227563.63983249 11029620.93701628  6031386.92766477  6039943.4088655\n",
      "  7594556.73943831  8642935.72744119  6031386.92766477  6039943.4088655\n",
      "  7519306.48310537  9536678.33736457  7461771.55178784 20069548.6051691\n",
      "  6031386.92766477  9070710.31473674 12065171.42645369  6031386.92766477\n",
      "  6326676.70525804  7857511.6498042   8319602.22551235  6962678.90865073\n",
      "  7870543.7963042  14017520.10618908  7122012.64789131  6031386.92766477\n",
      "  6039943.4088655  12381492.83116883  8319602.22551235  8630436.38026511\n",
      " 15452145.14042712 10820710.72163439  7951472.01146284  7283650.19650422\n",
      "  6039943.4088655  18671296.53928406  6031386.92766477  6031386.92766477\n",
      "  6031386.92766477  9902911.7617755   9397068.71467928 11631919.68652994\n",
      "  7577431.87448355 12820355.74160541 15878785.39041752 12919281.99590042\n",
      "  8576183.5202141   6039943.4088655  16513559.72074283  9724813.44309587\n",
      "  6014793.6058937   7192502.29358826  6031386.92766477 11080272.77597578\n",
      "  5846174.42658383  8630436.38026511 10035104.68895495  9935170.32496797\n",
      " 11209586.52129613  8776730.59603118 12524871.52545002  7280959.08022515\n",
      "  7519306.48310537 11122330.91343595  9753445.86306035 20180789.11925126\n",
      "  2784628.74504656 18402442.20167117  6031386.92766477  7258162.1847503\n",
      "  6031386.92766477]\n",
      "The accuracy of the model is: 0.9298114608209389\n",
      "The mse of the model is: 1692430769712.2932\n"
     ]
    }
   ],
   "source": [
    "y_pred_rf = rf_gridsearch.predict(X_test)\n",
    "print('The predicted carbon emission is: {}'.format(y_pred_rf))\n",
    "print('The accuracy of the model is: {}'.format(rf_gridsearch.score(X_test, y_test)))\n",
    "\n",
    "mse = mean_squared_error(y_test, y_pred_rf)\n",
    "\n",
    "# Evaluate the Predictions\n",
    "print('The mse of the model is: {}'.format(mse))"
   ]
  },
  {
   "cell_type": "code",
   "execution_count": 36,
   "metadata": {},
   "outputs": [
    {
     "data": {
      "text/html": [
       "<div>\n",
       "<style scoped>\n",
       "    .dataframe tbody tr th:only-of-type {\n",
       "        vertical-align: middle;\n",
       "    }\n",
       "\n",
       "    .dataframe tbody tr th {\n",
       "        vertical-align: top;\n",
       "    }\n",
       "\n",
       "    .dataframe thead th {\n",
       "        text-align: right;\n",
       "    }\n",
       "</style>\n",
       "<table border=\"1\" class=\"dataframe\">\n",
       "  <thead>\n",
       "    <tr style=\"text-align: right;\">\n",
       "      <th></th>\n",
       "      <th>mean_train_score</th>\n",
       "      <th>std_train_score</th>\n",
       "      <th>mean_test_score</th>\n",
       "      <th>std_test_score</th>\n",
       "    </tr>\n",
       "  </thead>\n",
       "  <tbody>\n",
       "    <tr>\n",
       "      <th>12</th>\n",
       "      <td>0.966575</td>\n",
       "      <td>0.000868</td>\n",
       "      <td>0.933396</td>\n",
       "      <td>0.009995</td>\n",
       "    </tr>\n",
       "    <tr>\n",
       "      <th>14</th>\n",
       "      <td>0.966426</td>\n",
       "      <td>0.000617</td>\n",
       "      <td>0.932945</td>\n",
       "      <td>0.010254</td>\n",
       "    </tr>\n",
       "    <tr>\n",
       "      <th>13</th>\n",
       "      <td>0.966437</td>\n",
       "      <td>0.000625</td>\n",
       "      <td>0.932373</td>\n",
       "      <td>0.010087</td>\n",
       "    </tr>\n",
       "    <tr>\n",
       "      <th>9</th>\n",
       "      <td>0.943631</td>\n",
       "      <td>0.002481</td>\n",
       "      <td>0.911891</td>\n",
       "      <td>0.014927</td>\n",
       "    </tr>\n",
       "    <tr>\n",
       "      <th>11</th>\n",
       "      <td>0.943449</td>\n",
       "      <td>0.002030</td>\n",
       "      <td>0.911461</td>\n",
       "      <td>0.014887</td>\n",
       "    </tr>\n",
       "  </tbody>\n",
       "</table>\n",
       "</div>"
      ],
      "text/plain": [
       "    mean_train_score  std_train_score  mean_test_score  std_test_score\n",
       "12          0.966575         0.000868         0.933396        0.009995\n",
       "14          0.966426         0.000617         0.932945        0.010254\n",
       "13          0.966437         0.000625         0.932373        0.010087\n",
       "9           0.943631         0.002481         0.911891        0.014927\n",
       "11          0.943449         0.002030         0.911461        0.014887"
      ]
     },
     "execution_count": 36,
     "metadata": {},
     "output_type": "execute_result"
    }
   ],
   "source": [
    "# display the cv results for the train and test set\n",
    "cv_results = pd.DataFrame(rf_gridsearch.cv_results_)\n",
    "cv_results = cv_results.sort_values('mean_test_score', ascending=False)\n",
    "cv_results[['mean_train_score', 'std_train_score', 'mean_test_score', 'std_test_score']].head()"
   ]
  },
  {
   "cell_type": "markdown",
   "metadata": {},
   "source": [
    "There is slight discrepancy between the best mean train score and mean test score as well as the standard deviation scores. There may be slight overfitting with less variance and more bias, which suggests the bias-variance problems influenced the accuracy of the model. "
   ]
  },
  {
   "cell_type": "code",
   "execution_count": null,
   "metadata": {},
   "outputs": [],
   "source": []
  },
  {
   "cell_type": "code",
   "execution_count": 37,
   "metadata": {
    "scrolled": false
   },
   "outputs": [
    {
     "data": {
      "image/png": "[encoded data removed]",
      "text/plain": [
       "<Figure size 800x550 with 1 Axes>"
      ]
     },
     "metadata": {},
     "output_type": "display_data"
    }
   ],
   "source": [
    "def plot_grid_search(cv_results, grid_param_1, grid_param_2, name_param_1, name_param_2):\n",
    "    \"\"\" plot GridSearchCV results into graph\n",
    "    \"\"\"\n",
    "    scores_mean = cv_results['mean_test_score']\n",
    "    scores_mean = np.array(scores_mean).reshape(len(grid_param_2),len(grid_param_1))\n",
    "    scores_sd = cv_results['std_test_score']\n",
    "    scores_sd = np.array(scores_sd).reshape(len(grid_param_2),len(grid_param_1))\n",
    "\n",
    "    # Plot Grid search scores\n",
    "    _, ax = plt.subplots(1,1)\n",
    "\n",
    "    # Param1 is the X-axis, Param 2 is represented as a different curve (color line)\n",
    "    for idx, val in enumerate(grid_param_2):\n",
    "        ax.plot(grid_param_1, scores_mean[idx,:], '-o', label= name_param_2 + ': ' + str(val))\n",
    "    ax.set_title(\"Grid Search Scores\", fontsize=20, fontweight='bold')\n",
    "    ax.set_xlabel(name_param_1, fontsize=16)\n",
    "    ax.set_ylabel('CV Average Score', fontsize=16)\n",
    "    ax.legend(loc=\"best\", fontsize=15)\n",
    "    ax.grid('on')\n",
    "\n",
    "plot_grid_search(rf_gridsearch.cv_results_, list(rf_params.values())[0], list(rf_params.values())[1], 'N Estimators', 'Max Features')"
   ]
  },
  {
   "cell_type": "markdown",
   "metadata": {},
   "source": [
    "We created a GridSearchCV values graph to demonstrate the various parameters tested for each model above. Notice how the n_estimators were the same across 100 to 300, which shows how any of those values would create the most optimal model. "
   ]
  },
  {
   "cell_type": "markdown",
   "metadata": {},
   "source": [
    "Next, we wanted to display the top assets predicted to produce the highest quantity of emissions, and compare it to the current emissions quantity produced."
   ]
  },
  {
   "cell_type": "code",
   "execution_count": 38,
   "metadata": {
    "scrolled": true
   },
   "outputs": [
    {
     "name": "stdout",
     "output_type": "stream",
     "text": [
      "asset_id\n",
      "1669942    9.501407e+07\n",
      "1670074    3.786119e+07\n",
      "1669983    3.667122e+07\n",
      "1669951    3.633264e+07\n",
      "1670011    3.352931e+07\n",
      "1669940    3.313848e+07\n",
      "1669941    3.312298e+07\n",
      "1669976    3.230784e+07\n",
      "1669971    2.988459e+07\n",
      "1670005    2.593764e+07\n",
      "Name: predicted_emissions, dtype: float64\n"
     ]
    }
   ],
   "source": [
    "# Make predictions on the emission quantity\n",
    "y_pred = rf_gridsearch.predict(X_test)\n",
    "\n",
    "# Add the predicted emissions as a new column to the original dataset\n",
    "test_df['predicted_emissions'] = y_pred\n",
    "\n",
    "# Group the data by asset and sum the predicted emissions over the time period of interest\n",
    "asset_emissions = test_df.groupby('asset_id')['predicted_emissions'].sum()\n",
    "\n",
    "# Sort the assets by their total predicted emissions in descending order\n",
    "asset_emissions = asset_emissions.sort_values(ascending=False)\n",
    "\n",
    "# Print the top 10 assets with the highest predicted emissions\n",
    "print(asset_emissions.head(10))"
   ]
  },
  {
   "cell_type": "code",
   "execution_count": 39,
   "metadata": {
    "scrolled": true
   },
   "outputs": [
    {
     "data": {
      "image/png": "[encoded data removed]",
      "text/plain": [
       "<Figure size 800x550 with 1 Axes>"
      ]
     },
     "metadata": {},
     "output_type": "display_data"
    }
   ],
   "source": [
    "pred_actual = asset_emissions.to_frame().merge(high_em.set_index('asset_id'), left_index = True, right_index = True).reset_index()\n",
    "pred_actual_10= pred_actual.sort_values(by = 'emissions_quantity', ascending = False).head(10)\n",
    "\n",
    "pred_actual_10.plot(x = 'asset_id', y = ['predicted_emissions', 'emissions_quantity'], kind = 'bar', color = ['darkgreen', 'tan'])\n",
    "\n",
    "plt.rcParams['font.family'] = 'sans-serif'\n",
    "plt.rcParams['font.sans-serif'] = 'Helvetica'\n",
    "\n",
    "plt.rcParams['axes.edgecolor']='#333F4B'\n",
    "plt.rcParams['axes.linewidth']=0.8\n",
    "plt.rcParams['xtick.color']='#333F4B'\n",
    "plt.rcParams['ytick.color']='#333F4B'\n",
    "\n",
    "plt.title('Predicted vs. Actual Emissions by assets')\n",
    "plt.ylabel('CO2 emission quantity')\n",
    "plt.xlabel('Asset_id')\n",
    "plt.show()\n"
   ]
  },
  {
   "cell_type": "markdown",
   "metadata": {},
   "source": [
    "We furthermore wanted to utilize our model to determine which assets have the largest overall impact on our environment with regard to emissions quantity, a goal that we were able to accomplish as displayed above. Although the majority of assets are predicted to produce slightly less emissions than what is being produced right now, there are other assets that spike in the predicted production of carbon emissions. Looking at the emissions quantity by country, these assets can be associated with the countries producing the top carbon dioxide emissions. "
   ]
  },
  {
   "cell_type": "markdown",
   "metadata": {},
   "source": [
    "## Impacts"
   ]
  },
  {
   "cell_type": "markdown",
   "metadata": {},
   "source": [
    "Our project could be of interest to a wide audience ranging from policymakers to individuals. Carbon analysis has become very important in the past few decades as issues of global warming have emerged as a serious problem. Our analysis of the predictability of carbon emissions could serve as an example of the reliability of CO2 predictions. Carbon emissions predictions can be used for several different reasons: \n",
    "\n",
    "1. First, it can help support mitigation and preventive efforts that locate the highest emitting sources. Carbon emissions are the leading cause of global warming and it is of utmost importance to pinpoint carbon trends. By doing so, reduction efforts can be put in place to prevent increasing emissions and hopefully work towards carbon neutrality. \n",
    "2. Secondly, individuals can benefit from our solution. Predicting carbon emissions can raise awareness and educate the public about the impact of their actions on the environment. It can encourage individuals to take responsibility and make changes in their behavior to reduce their carbon footprint. \n",
    "3. Finally, the biggest impact our solution has is on businesses and industries. Businesses can benefit by using predictions to find inefficiencies in their business and make improvements that will lower their costs, prioritize actions, and measure the impact of their intervention. This could also serve businesses well creating positive public exposure. While some businesses can benefit from our model, there will also be some that are negatively impacted by our findings. Businesses that are dependent on fossil fuels or have histories of high carbon emissions could be negatively impacted after our findings would cast a spotlight over the environmental harm they create. These businesses could potentially be forced to adhere to new policies, face public scrutiny, and lose profits. With carbon emission predictions having such a large impact on such a large audience, our model serves as justification for the accuracy of CO2 predictions."
   ]
  },
  {
   "cell_type": "markdown",
   "metadata": {},
   "source": [
    "## Conclusion"
   ]
  },
  {
   "cell_type": "markdown",
   "metadata": {},
   "source": [
    "Through this project, we were able to analyze the relationship between “emissions_quantity” and different features like “capacity”, “activity”, “capacity_factor”, and “country”. We wanted to determine whether carbon emission quantity is predictable by those features. To further support our overall goal we also evaluated which assets are projected to produce the highest emissions quantity. Prior to our prediction model, we tried to understand which country had the most carbon emission as well as which specific asset had the most emission. We were able to explore these areas by looking at the existing data and group by assets or country to look at their emissions as a whole. Some realizations include China being the country that had the most emitted CO2 while Korea had two major power plants that emitted the most carbon emission. These findings help us evaluate the overall trend in carbon emissions across the globe. Then, with our Random Forest Regression model, we were able to predict the emission quantity of an asset based on the location, the capacity of the asset, and the ongoing activity in the power plant. Our model stands with an accuracy score of 0.93, which shows that our model has very high model accuracy and it’s an appropriate model for this training and testing datasets. However, our model lacks in model performance with the unreasonably high mean square errors it presents. \n",
    "\n",
    "There are many areas of improvements that can be made to enhance the predictability of our model. First, there are a lot of other factors that could influence carbon emissions of power plants, and the dataset had a limited and insufficient amount of features which led to the instability of our model performance. The model performance could be enhanced if we had explored other related datasets and combined them to have more features of selections. Another aspect we could improve on was to increase the amount of data or have a higher quality dataset that had less invalid or null values that prevented us from using it. These changes could allow us to have a better model that predicts carbon emissions, and can provide positive impacts to increasing awareness of the key contributors of carbon emissions."
   ]
  },
  {
   "cell_type": "markdown",
   "metadata": {},
   "source": [
    "## Works Cited"
   ]
  },
  {
   "cell_type": "markdown",
   "metadata": {},
   "source": [
    "1. “Americans' Knowledge of Climate Change.” Yale Program on Climate Change Communication, 29 Feb. 2016, https://climatecommunication.yale.edu/publications/americans-knowledge-of-climate-change/. \n",
    "2. “Climate Change Impacts.” National Oceanic and Atmospheric Administration, 31 Aug. 2021, https://www.noaa.gov/education/resource-collections/climate/climate-change-impacts#:~:text=The%20impacts%20of%20climate%20change%20on%20different%20sectors%20of%20society,availability%2C%20and%20limit%20worker%20productivity. \n",
    "3. Energy and Climate Change — European Environment Agency. Energy and Climate Change, 11 May 2021, https://www.eea.europa.eu/signals/signals-2017/articles/energy-and-climate-change. \n",
    "4. “Facts and Figures.” United Nations, United Nations, https://www.un.org/en/actnow/facts-and-figures#:~:text=The%20energy%20supply%20sector%20. \n",
    "5. “What Are the Long-Term Effects of Climate Change?” What Are the Long-Term Effects of Climate Change? | U.S. Geological Survey, https://www.usgs.gov/faqs/what-are-long-term-effects-climate-change#:~:text=Scientists%20have%20predicted%20that%20long,resources%20in%20semi%2Darid%20regions.\n",
    "6. Alova, G., Trotter, P.A. & Money, A. A machine-learning approach to predicting Africa’s electricity mix based on planned power plants and their chances of success. Nat Energy 6, 158–166 (2021). https://doi.org/10.1038/s41560-020-00755-9\n",
    "7. Krechowicz, Adam & Krechowicz, Maria & Poczeta, Katarzyna. (2022). Machine Learning Approaches to Predict Electricity Production from Renewable Energy Sources. Energies. 15. 9146. 10.3390/en15239146. \n",
    "8. Kim S-G, Jung J-Y, Sim MK. A Two-Step Approach to Solar Power Generation Prediction Based on Weather Data Using Machine Learning. Sustainability. 2019; 11(5):1501. https://doi.org/10.3390/su11051501\n",
    "9. Ma, Ning, et al. “Can Machine Learning Be Applied to Carbon Emissions Analysis: An Application to the CO2 Emissions Analysis Using Gaussian Process Regression.” Frontiers, Frontiers, 8 Sept. 2021, https://www.frontiersin.org/articles/10.3389/fenrg.2021.756311/full. \n",
    "10. Aamir, Muhammad, et al. “Predicting the Environmental Change of Carbon Emission Patterns in South Asia: A Deep Learning Approach Using Bilstm.” MDPI, Multidisciplinary Digital Publishing Institute, 30 Nov. 2022, https://www.mdpi.com/2073-4433/13/12/2011. "
   ]
  },
  {
   "cell_type": "code",
   "execution_count": null,
   "metadata": {},
   "outputs": [],
   "source": []
  }
 ],
 "metadata": {
  "kernelspec": {
   "display_name": "Python 3 (ipykernel)",
   "language": "python",
   "name": "python3"
  },
  "language_info": {
   "codemirror_mode": {
    "name": "ipython",
    "version": 3
   },
   "file_extension": ".py",
   "mimetype": "text/x-python",
   "name": "python",
   "nbconvert_exporter": "python",
   "pygments_lexer": "ipython3",
   "version": "3.8.5"
  }
 },
 "nbformat": 4,
 "nbformat_minor": 4
}
